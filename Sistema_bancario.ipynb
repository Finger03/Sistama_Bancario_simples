{
  "cells": [
    {
      "cell_type": "code",
      "execution_count": 1,
      "metadata": {
        "colab": {
          "base_uri": "https://localhost:8080/"
        },
        "id": "uapEkcLyx_xf",
        "outputId": "28d9ee56-f937-4026-8952-57c5b6fc8efe"
      },
      "outputs": [],
      "source": [
        "menu = '''\n",
        "Menu\n",
        "\n",
        "[1] Depositar\n",
        "[2] Sacar\n",
        "[3] Extrato\n",
        "[0] Sair\n",
        "\n",
        "=> Digite valor da operação que deseja executar!\n",
        "'''\n",
        "\n",
        "saldo = 0\n",
        "limite = 500\n",
        "extrato = ''\n",
        "saques_diario = 0\n",
        "LIMITE_SAQUES = 3\n",
        "\n",
        "while True:\n",
        "  opcao = input(menu)\n",
        "\n",
        "  if opcao == '1':\n",
        "    valor = float(input('Valor do depósito: '))\n",
        "\n",
        "    if valor > 0:\n",
        "      saldo += valor\n",
        "      extrato += f'Depósito de: R$ {valor:.2f}\\n'\n",
        "      print(f'Deposito efetuado no valor de: R$ {valor:.2f}')\n",
        "\n",
        "    else:\n",
        "      print('Opração falhou. O valor informado não é válido.')\n",
        "\n",
        "  elif opcao == '2':\n",
        "    valor = float(input('Valor do saque: '))\n",
        "\n",
        "    if valor > saldo:\n",
        "      print('Operação falhou! Saldo insuficiente.')\n",
        "\n",
        "    elif valor > limite:\n",
        "      print('Operação falhou! Valor do saque maior que o seu limite.')\n",
        "\n",
        "    elif saques_diario >= LIMITE_SAQUES:\n",
        "      print('Operação falhou! Limite de saques excedido.')\n",
        "\n",
        "    elif valor > 0:\n",
        "      saldo -= valor\n",
        "      saques_diario +=1\n",
        "      extrato += f'Saque de: R$ {valor:.2f}\\n'\n",
        "      print(f'Saque efetuado no valor de: R${valor:.2f}. Você ainda pode efetuar um total de {LIMITE_SAQUES - saques_diario} saques hoje.')\n",
        "\n",
        "    else:\n",
        "      print('Operação falhou! O valor informado não é válido.')\n",
        "\n",
        "  elif opcao == '3':\n",
        "    print('========= Extrato =========\\n')\n",
        "    print('Nenhuma movimentação encontrada.' if not extrato else extrato)\n",
        "    print(f'\\nSaldo na conta: R${saldo:.2f}')\n",
        "    print('===========================')\n",
        "\n",
        "  elif opcao == '0':\n",
        "    print('Obrigado por utilizar os serviços do nosso banco, tenha um bom dia!')\n",
        "    break\n",
        "\n",
        "  else:\n",
        "    print('Operação inválida, por favor selecione novamente a operação desejada')"
      ]
    }
  ],
  "metadata": {
    "colab": {
      "authorship_tag": "ABX9TyOJNUxWUH3SaR8Go3BWcifQ",
      "provenance": []
    },
    "kernelspec": {
      "display_name": "Python 3",
      "name": "python3"
    },
    "language_info": {
      "codemirror_mode": {
        "name": "ipython",
        "version": 3
      },
      "file_extension": ".py",
      "mimetype": "text/x-python",
      "name": "python",
      "nbconvert_exporter": "python",
      "pygments_lexer": "ipython3",
      "version": "3.11.3"
    }
  },
  "nbformat": 4,
  "nbformat_minor": 0
}
